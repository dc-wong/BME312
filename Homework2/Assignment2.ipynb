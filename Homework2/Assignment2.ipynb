{
 "cells": [
  {
   "cell_type": "markdown",
   "id": "2ba75d82-b557-4dda-9ccf-9b7672fa6a1f",
   "metadata": {},
   "source": [
    "# Assignment 2"
   ]
  },
  {
   "cell_type": "markdown",
   "id": "c917e77b-a55c-4956-a7ff-ec4a5a655815",
   "metadata": {},
   "source": [
    "### Name: David Wong"
   ]
  },
  {
   "cell_type": "markdown",
   "id": "7bc6bcb6-5715-4e01-8707-f8b45eda1c47",
   "metadata": {},
   "source": [
    "## Part 1\n",
    "\n",
    "Surface electromyography (EMG) is a commonly used measurement to provide insight as to how muscles are working. While they provide measures of voltage on the skin directly above different muscles, they are often used to infer the forces muscles are producing and the resulting net torque across different joints. However, surface EMGs can only be considered relative and not absolute measures since the measures they provide are very sensitive to electrode placement and skin preparation. As a result, the relationship between EMG and joint torque can vary drastically from subject-to-subject and even from day-to-day in any individual. Therefore, any device that wants to infer muscle force or joint torque from EMG measurement would need to be calibrated on a daily basis. To minimize burden on the user, it would be preferable if this type of calibration would be as short as possible.\n",
    "\n",
    "In the included datasets, there are 50 recordings of EMG from 6 muscles and ankle torque in 3 planes. This dataset simulates the kind of data that would be collected during some sort of calibration. \n",
    "\n",
    "The 6 muscles are:\n",
    "- Tibialis Anterior (a dorsiflexor and invertor muscle); Lateral Gastrocnemius, Medial Gastrocnemius and Soleus (plantarflexor muscles); and Peroneus Longus and Peroneus Brevis (plantarflexor and evertor muscles).\n",
    "- Torques were measured in the Frontal plane (+x = eversion, -x = inversion); Sagittal plane (+y = dorsiflexion, -y = plantarflexion); and Transverse plane (+z = internal rotation, -z = external rotation). The data can be found in Torques.csv\n",
    "- For each EMG signal 10 features were computed. The data can be found in Features.csv\n",
    "    - Mean\n",
    "    - Max\n",
    "    - Variance (var)\n",
    "    - Kurtosis\n",
    "    - Skew\n",
    "    - Mean absolute value (MAV)\n",
    "    - Root mean square (RMS)\n",
    "    - Zero crossing rate (ZCR)\n",
    "    - The mean frequency\n",
    "    - The frequency at which 95% of power is below (95%)"
   ]
  },
  {
   "cell_type": "markdown",
   "id": "3161cec9-18a2-4006-903f-a8b88a40754e",
   "metadata": {},
   "source": [
    "### Question 1\n",
    "\n",
    "#### For torque direction Y only:"
   ]
  },
  {
   "cell_type": "markdown",
   "id": "17d3c1ef-1f62-476b-b5c3-8dc8a485f980",
   "metadata": {},
   "source": [
    "Fit a linear regression, ridge, lasso and elastic net models to the data (15 pts)"
   ]
  },
  {
   "cell_type": "code",
   "execution_count": null,
   "id": "ee35ad9a-5c0a-43b0-8e52-e6123359b205",
   "metadata": {
    "tags": []
   },
   "outputs": [],
   "source": []
  },
  {
   "cell_type": "markdown",
   "id": "951f5eea-1007-40a0-b69a-3ef0eca5c49e",
   "metadata": {},
   "source": [
    "- Which model fits the data the best? Justify your answer. (5 pts)"
   ]
  },
  {
   "cell_type": "code",
   "execution_count": null,
   "id": "924ba3cf-436f-49b1-9ded-dd7c53078e38",
   "metadata": {},
   "outputs": [],
   "source": []
  },
  {
   "cell_type": "markdown",
   "id": "304a659f-50d9-4659-b5a6-241ebecf29d0",
   "metadata": {},
   "source": []
  },
  {
   "cell_type": "markdown",
   "id": "e9d70223-6799-4a11-a214-342a2359fca4",
   "metadata": {},
   "source": [
    "- How well does this model fit the data? Justify your answer. (2.5 pts)"
   ]
  },
  {
   "cell_type": "code",
   "execution_count": null,
   "id": "2878a5ee-cd00-4a03-a3d3-0ddd50423e92",
   "metadata": {},
   "outputs": [],
   "source": []
  },
  {
   "cell_type": "markdown",
   "id": "216a6df0-28bd-423d-ad7e-8e13fa95973d",
   "metadata": {},
   "source": []
  },
  {
   "cell_type": "markdown",
   "id": "de10d398-4e2a-4bf3-a1d0-9cef43048422",
   "metadata": {},
   "source": [
    "- What hyperparameters (if any) result in this best fit? Justify your answer. (2.5 pts)"
   ]
  },
  {
   "cell_type": "code",
   "execution_count": null,
   "id": "1c58a8c2-d98c-46b9-851d-efc725e6668b",
   "metadata": {},
   "outputs": [],
   "source": []
  },
  {
   "cell_type": "markdown",
   "id": "b414e4f4-8ce9-4c28-91f7-4ef3e67db9db",
   "metadata": {},
   "source": []
  },
  {
   "cell_type": "markdown",
   "id": "615ebcfb-d78b-47ca-9364-6dd5af1cea2f",
   "metadata": {},
   "source": [
    "- Which model predicts the torque during general usage of this wearable device (i.e. not during calibration) the best? Justify your answer. (5 pts)"
   ]
  },
  {
   "cell_type": "code",
   "execution_count": null,
   "id": "bab18acd-9526-4035-9a76-0fd8bf7004e6",
   "metadata": {},
   "outputs": [],
   "source": []
  },
  {
   "cell_type": "markdown",
   "id": "bbb95631",
   "metadata": {},
   "source": []
  },
  {
   "cell_type": "markdown",
   "id": "247e1945-1bb6-4086-aa96-cfb12ca34c36",
   "metadata": {},
   "source": [
    "- How well does this model (the one that is the best at predicting torques during general usage) predict the data? Justify your answer. (2.5 pts)"
   ]
  },
  {
   "cell_type": "code",
   "execution_count": null,
   "id": "8e20f8c2-c17f-4582-a641-d3428617c675",
   "metadata": {
    "tags": []
   },
   "outputs": [],
   "source": []
  },
  {
   "cell_type": "markdown",
   "id": "8f964c05-b7ac-40b3-8676-211c7e2e7bbb",
   "metadata": {},
   "source": []
  },
  {
   "cell_type": "markdown",
   "id": "b06a8a31-cba1-4835-9a02-6d7022382a85",
   "metadata": {},
   "source": [
    "What hyperparameters (if any) result in this best prediction? Justify your answer. (2.5 pts)"
   ]
  },
  {
   "cell_type": "code",
   "execution_count": null,
   "id": "c612c7d6-d396-4ec0-8cc8-4ec8b9e166e2",
   "metadata": {
    "tags": []
   },
   "outputs": [],
   "source": []
  },
  {
   "cell_type": "markdown",
   "id": "0af8f6d8-0274-4d3a-9660-d4cb128c30d8",
   "metadata": {
    "tags": []
   },
   "source": []
  },
  {
   "cell_type": "markdown",
   "id": "68d8eb2b-9b9a-4249-8203-da56c74a163e",
   "metadata": {},
   "source": [
    "### Question 2\n",
    "#### For Torque in the Y direction only:\n",
    "\n",
    "Traditional methods use only the variances of the EMG signal to find the EMG-Torque relationship."
   ]
  },
  {
   "cell_type": "markdown",
   "id": "26f74269-232e-482d-9618-4ad4947063c0",
   "metadata": {},
   "source": [
    "How much better/worse at predicting the Y torque during general usage of this wearable device when considering all 60 features instead of just variances. Use the algorithm that you decide is best. (7.5 pts)"
   ]
  },
  {
   "cell_type": "code",
   "execution_count": null,
   "id": "aa871e98-33bd-4fda-831e-37c870b6125e",
   "metadata": {
    "tags": []
   },
   "outputs": [],
   "source": []
  },
  {
   "cell_type": "markdown",
   "id": "25fa445a-3761-4871-8a6c-0754ca020eda",
   "metadata": {},
   "source": [
    "If someone was only interested in using the EMG variances to predict Y torque, should they include all 6 muscles in their model? If no, then which muscles should be included in the model (and hence EMG from which are required to be measured and recorded). Justify your answer. (7.5 pts)"
   ]
  },
  {
   "cell_type": "code",
   "execution_count": null,
   "id": "5979cd69-e4e5-4406-9155-1513d58d63e6",
   "metadata": {
    "tags": []
   },
   "outputs": [],
   "source": []
  },
  {
   "cell_type": "markdown",
   "id": "360847f3-0415-4e84-8620-bf999258d024",
   "metadata": {},
   "source": []
  },
  {
   "cell_type": "markdown",
   "id": "0e47f061-9e58-4617-b3d9-752272625398",
   "metadata": {},
   "source": [
    "## Part 2\n",
    "The invention of powered prostheses has opened up many possibilities for the restoration of natural walking activities to individuals following a lower-limb amputation. Accompanying these possibilities are many challenges. One major challenge with powered prostheses is recognizing the task that subjects are performing (e.g. standing vs walking). The dataset provided was recorded with the intent of recognizing the mode of locomotion using various sensors on a prosthetic leg.\n",
    "\n",
    "The prosthetic leg recorded 17 different signals:\n",
    "- Knee_Angle\n",
    "- Knee_Velocity\n",
    "- Knee_Current\n",
    "- Ankle_Angle\n",
    "- Ankle_Velocity\n",
    "- Ankle_Current\n",
    "- Acc_X\n",
    "- Acc_Y\n",
    "- Acc_Z\n",
    "- Gyro_X\n",
    "- Gyro_Y\n",
    "- Gyro_Z\n",
    "- Shank_Angle\n",
    "- Thigh_Angle\n",
    "- Knee_Ref_Torque\n",
    "- Ankle_Ref_Torque\n",
    "- Filtered Vertical Load"
   ]
  },
  {
   "cell_type": "markdown",
   "id": "06d3fc97-23c3-4e05-a15a-8a2b9a2a5058",
   "metadata": {},
   "source": [
    "Across 4 different locomotion modes\n",
    "\n",
    "1. Stand\n",
    "2. Walk (level ground)\n",
    "3. Up Stairs\n",
    "4. Down Stairs\n",
    "\n",
    "For each mode the mean, standard deviation, maximum and minimum were computed.\n",
    "\n",
    "Data can be found in Prosthesis_Dataset.csv"
   ]
  },
  {
   "cell_type": "markdown",
   "id": "d0c15162-73bd-4c8b-b1a8-b4f4bcc6dabe",
   "metadata": {},
   "source": [
    "### Question 3\n",
    "\n",
    "Using the standard deviation of the thigh angle, knee angle and ankle angle develop a model that can predict locomotion mode. Use a one vs rest approach. (10 pts)"
   ]
  },
  {
   "cell_type": "code",
   "execution_count": null,
   "id": "b5870343-b81d-4f72-9975-c812ebb8e689",
   "metadata": {
    "tags": []
   },
   "outputs": [],
   "source": []
  },
  {
   "cell_type": "markdown",
   "id": "e7a90eee-5ac0-4c69-b2f0-14ee18924925",
   "metadata": {},
   "source": [
    "Plot all combinations of thigh angle vs ankle angle vs knee angle with each locomotion mode as a different color. (5 pts)"
   ]
  },
  {
   "cell_type": "code",
   "execution_count": null,
   "id": "4934ca6c-83cc-48dc-a2f6-e98e41457d0a",
   "metadata": {
    "tags": []
   },
   "outputs": [],
   "source": []
  },
  {
   "cell_type": "markdown",
   "id": "8a1fb630-354c-4f2d-a89c-8b4007571f38",
   "metadata": {},
   "source": [
    "How accurately does this model fit the data? (2.5 pts)"
   ]
  },
  {
   "cell_type": "code",
   "execution_count": null,
   "id": "f76de491-4d14-4d49-bae4-064ed846586e",
   "metadata": {
    "tags": []
   },
   "outputs": [],
   "source": []
  },
  {
   "cell_type": "markdown",
   "id": "517aa845-025c-42ac-9467-f69b8fa7aec2",
   "metadata": {},
   "source": [
    "How accurately can this model predict locomotion mode if it were implemented in the prosthetic leg in future sessions? (2.5 pts)"
   ]
  },
  {
   "cell_type": "code",
   "execution_count": null,
   "id": "51f278bc-24e0-420b-bc76-4584b63555d4",
   "metadata": {
    "tags": []
   },
   "outputs": [],
   "source": []
  },
  {
   "cell_type": "markdown",
   "id": "71e2fd4f-0a48-4d89-bbec-2d64ba6e3e67",
   "metadata": {},
   "source": [
    "What are the sensitivity and specificity of this model in predicting each of the locomotion modes? (combine both training and testing data to compute sensitivity and specificity due to the limited size of the data set)  (5 pts)"
   ]
  },
  {
   "cell_type": "code",
   "execution_count": null,
   "id": "e4011c0b-16be-4c0d-866c-e5407051562e",
   "metadata": {
    "tags": []
   },
   "outputs": [],
   "source": []
  },
  {
   "cell_type": "markdown",
   "id": "8657522e-125d-48dd-bda5-17a1dff53b6d",
   "metadata": {},
   "source": [
    "Accidentally putting the prosthesis in stand or walk mode when going up or down stairs could be disastrous as it could lead to a fall down the stairs.\n",
    "In what percentage of the up/down stairs locomotion modes (use combined training and the test data due to limited dataset size set does this happen? (5 pts) ."
   ]
  },
  {
   "cell_type": "code",
   "execution_count": null,
   "id": "11fa9f8f-2b0c-464f-be3a-ee38a3b905e9",
   "metadata": {
    "tags": []
   },
   "outputs": [],
   "source": []
  },
  {
   "cell_type": "markdown",
   "id": "9435f766-54d1-4999-b252-3703eb48e7fb",
   "metadata": {},
   "source": [
    "### Question 4\n",
    "Now fit a model that predicts locomotion mode using only knee angle standard deviation and knee angle mean."
   ]
  },
  {
   "cell_type": "code",
   "execution_count": null,
   "id": "e03dfa24-e875-491e-a7fd-e2992c403e89",
   "metadata": {
    "tags": []
   },
   "outputs": [],
   "source": []
  },
  {
   "cell_type": "markdown",
   "id": "201931e0-3b11-40e5-996d-041f726fee5f",
   "metadata": {},
   "source": [
    "Make a figure showing the predicted locomotion mode for a range of knee angle standard deviation ranging from 0-0.5 rad and a range of knee angle means from -0.5 – 1 rad. Plot the mean knee angle on the x-axis, the knee angle standard deviation on the y-axis and color code the locomotion mode. (10 pts)"
   ]
  },
  {
   "cell_type": "code",
   "execution_count": null,
   "id": "4994ee11-0d64-40b7-a69b-e967fead4592",
   "metadata": {
    "tags": []
   },
   "outputs": [],
   "source": []
  },
  {
   "cell_type": "markdown",
   "id": "0918c21c-6eb7-4135-ad8e-aabe6b9ee09c",
   "metadata": {},
   "source": [
    "Make a similar figure but instead of showing the predicted locomotion mode, show the probability of being in each mode. Use the same colors as in A, but use gradual transitions from color to color to denote the different probabilities. (10 pts) "
   ]
  },
  {
   "cell_type": "code",
   "execution_count": null,
   "id": "0380a02b-7982-41f0-abc5-60f1c18d8f0e",
   "metadata": {
    "tags": []
   },
   "outputs": [],
   "source": []
  }
 ],
 "metadata": {
  "kernelspec": {
   "display_name": "py311",
   "language": "python",
   "name": "python3"
  },
  "language_info": {
   "codemirror_mode": {
    "name": "ipython",
    "version": 3
   },
   "file_extension": ".py",
   "mimetype": "text/x-python",
   "name": "python",
   "nbconvert_exporter": "python",
   "pygments_lexer": "ipython3",
   "version": "3.11.11"
  }
 },
 "nbformat": 4,
 "nbformat_minor": 5
}
